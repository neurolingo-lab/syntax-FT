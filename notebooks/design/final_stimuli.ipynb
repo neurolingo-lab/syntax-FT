{
 "cells": [
  {
   "cell_type": "markdown",
   "metadata": {},
   "source": [
    "# Final non-word stimuli generation from manually-curated Phrase/Non-Phrase stimuli\n",
    "\n",
    "We perform the following steps for both the even and odd subject lists:\n",
    "1. Pull a list of nouns not yet used in the P & NP conditions\n",
    "2. Select a set of paired word and cluster lengths (3-5 characters) that match the frequencies of the P/NP conditions (equal numbers of 5, 4, and 3 character strings)\n",
    "3. Randomly assign one of each pair to be the noun, the other the consonant cluster\n",
    "4. Go through the list generating stimuli\n",
    "\n",
    "We will only use **nouns** for the word component of the non-word pairs. This is because I want to avoid the subjects treating the consonant cluster as a semantic placeholder when reading. E.g. when reading \"the zxdf\" it is tempting to think of the zxdf as some object with an unpronounceable name. This problem will still occur with nouns, especially when the noun comes second (\"zxdf boat\"), but I believe subjects are less likely to assign a placeholder meaning to a word preceding a noun as opposed to following a determiner or adjective.\n",
    "\n",
    "## Step 1:\n"
   ]
  },
  {
   "cell_type": "code",
   "execution_count": 1,
   "metadata": {},
   "outputs": [
    {
     "name": "stdout",
     "output_type": "stream",
     "text": [
      "A total of 25658 nouns remain to be added to the stimuli lists:\n"
     ]
    }
   ],
   "source": [
    "import pandas as pd\n",
    "import numpy as np\n",
    "from pathlib import Path\n",
    "import matplotlib.pyplot as plt\n",
    "import seaborn as sns\n",
    "from IPython.display import display\n",
    "\n",
    "%matplotlib inline\n",
    "\n",
    "RANDOM_SEED = 42\n",
    "rng = np.random.default_rng(RANDOM_SEED)\n",
    "\n",
    "\n",
    "# Load in Nina's final stimuli lists and the consonants\n",
    "stimpath = Path(\"../../word_ngrams/\").resolve()\n",
    "pnp_stim_even = pd.read_csv(stimpath / \"final_P_NP_evensubs.csv\").drop(columns=[\"Unnamed: 0\"])\n",
    "pnp_stim_odd = pd.read_csv(stimpath / \"final_P_NP_oddsubs.csv\").drop(columns=[\"Unnamed: 0\"])\n",
    "pnp_stim = pd.concat([pnp_stim_even, pnp_stim_odd]).reset_index(drop=True)\n",
    "cons = pd.read_csv(stimpath / \"cons_clust_final_candidates.csv\").set_index([\"clus1\", \"clus2\"])\n",
    "\n",
    "# Load in the core list of all words, isolate by nouns\n",
    "wordcats = pd.read_csv(stimpath / \"1grams_english_1b_with_pos.csv\").convert_dtypes()\n",
    "\n",
    "# Isolate the words which are nouns in the top 45k\n",
    "wordcats[\"word\"] = wordcats[\"ngram\"].str.split(\"_\").str[0]\n",
    "wordcats = wordcats[~wordcats[\"word\"].str.isupper()].reset_index(drop=True)\n",
    "wordcats[\"POS\"] = wordcats[\"ngram\"].str.split(\"_\").str[1]\n",
    "wordcats.drop(columns=[\"ngram\"], inplace=True)\n",
    "wordcats = wordcats.reindex(columns=[\"word\", \"POS\", \"freq\"])\n",
    "nouns = wordcats[wordcats[\"POS\"] == \"NOUN\"].reset_index(drop=True)\n",
    "\n",
    "# Isolate the nouns not yet in the stimuli lists\n",
    "pnp_stim_words = pd.melt(pnp_stim[[\"w1\", \"w2\"]], ignore_index=False).reset_index(drop=False)\n",
    "remidx = ~nouns[\"word\"].isin(pnp_stim_words[\"value\"])\n",
    "candidates = nouns[remidx].reset_index(drop=True).copy()\n",
    "print(f\"A total of {len(candidates)} nouns remain to be added to the stimuli lists:\")"
   ]
  },
  {
   "cell_type": "markdown",
   "metadata": {},
   "source": [
    "## Step 2:\n",
    "\n",
    "We find the length of all stimulus words for even and odd lists, and generate a frequency table. We want to match the non-word with the other stimuli pair-for-pair, i.e. from a table like this:\n",
    "\n",
    "| w1 length | w2 length | condition | frequency |\n",
    "| :---------: | :---------: | :---------: | :---------: |\n",
    "| 3 | 3 | phrase | 5 |\n",
    "| 3 | 4 | phrase | 15 |\n",
    "| $\\vdots$ | $\\vdots$ | $\\vdots$ | $\\vdots$ |\n",
    "| 5 | 4 | non-phrase | 8 |\n",
    "| 5 | 5 | non-phrase | 6 |\n",
    "\n",
    "we will divide the frequency by two to get the total of each pairing for the even and odd non-word condition.\n",
    "\n",
    "We then use this frequency table to generate a list of target lengths of stimuli (w1 and w2 targets), and randomly select w1 or w2 for each to be the consonant cluster."
   ]
  },
  {
   "cell_type": "code",
   "execution_count": 2,
   "metadata": {},
   "outputs": [
    {
     "name": "stdout",
     "output_type": "stream",
     "text": [
      "Odd subject freqs:\n"
     ]
    },
    {
     "data": {
      "text/plain": [
       "condition   w1_len  w2_len\n",
       "non-phrase  3       4         12\n",
       "            4       3         12\n",
       "                    4         36\n",
       "phrase      3       4         12\n",
       "            4       3         12\n",
       "                    4         36\n",
       "Name: count, dtype: int64"
      ]
     },
     "metadata": {},
     "output_type": "display_data"
    },
    {
     "name": "stdout",
     "output_type": "stream",
     "text": [
      "Even subject freqs:\n"
     ]
    },
    {
     "data": {
      "text/plain": [
       "condition   w1_len  w2_len\n",
       "non-phrase  3       4         12\n",
       "            4       3         12\n",
       "                    4         36\n",
       "phrase      3       4         12\n",
       "            4       3         12\n",
       "                    4         36\n",
       "Name: count, dtype: int64"
      ]
     },
     "metadata": {},
     "output_type": "display_data"
    }
   ],
   "source": [
    "for table in [pnp_stim_even, pnp_stim_odd]:\n",
    "    for word in [\"w1\", \"w2\"]:\n",
    "        table[f\"{word}_len\"] = table[word].str.len()\n",
    "\n",
    "freqs_odd = pnp_stim_odd[[\"condition\", \"w1_len\", \"w2_len\"]].value_counts().sort_index()\n",
    "freqs_even = pnp_stim_even[[\"condition\", \"w1_len\", \"w2_len\"]].value_counts().sort_index()\n",
    "print(\"Odd subject freqs:\")\n",
    "display(freqs_odd)\n",
    "print(\"Even subject freqs:\")\n",
    "display(freqs_even)"
   ]
  },
  {
   "cell_type": "markdown",
   "metadata": {},
   "source": [
    "## Step 3:\n",
    "\n",
    "Since the frequencies are exactly balanced between the two (nice work Nina!) we can just use one as a reference. We use that to generate a list of trial word lengths using only one condition, and then select half of the words to be consonant clusters. \n",
    "\n",
    "Note that we don't do this assignment randomly, since the list will be shuffled for each experiment, and just set the first half to be noun-first and the second to be consonant-first."
   ]
  },
  {
   "cell_type": "code",
   "execution_count": 3,
   "metadata": {},
   "outputs": [
    {
     "name": "stdout",
     "output_type": "stream",
     "text": [
      "Our final labels have the following distribution:\n"
     ]
    },
    {
     "data": {
      "text/plain": [
       "w1_len  w2_len  w1_type  w2_type\n",
       "3       4       cons     noun        6\n",
       "                noun     cons        6\n",
       "4       3       cons     noun        6\n",
       "                noun     cons        6\n",
       "        4       cons     noun       18\n",
       "                noun     cons       18\n",
       "Name: count, dtype: int64"
      ]
     },
     "metadata": {},
     "output_type": "display_data"
    }
   ],
   "source": [
    "target_freqs = freqs_odd.copy().loc[\"phrase\"]\n",
    "target_freqs\n",
    "rows = []\n",
    "for idx, row in target_freqs.items():\n",
    "    midpoint = int(row / 2)\n",
    "    for i in range(row):\n",
    "        w1_type, w2_type = (\"noun\", \"cons\") if i < midpoint else (\"cons\", \"noun\")\n",
    "        rows.append({\"w1_len\": idx[0], \"w2_len\": idx[1], \"w1_type\": w1_type, \"w2_type\": w2_type})\n",
    "stimuli_nw = pd.DataFrame(rows)\n",
    "print(\"Our final labels have the following distribution:\")\n",
    "display(stimuli_nw.value_counts().sort_index())"
   ]
  },
  {
   "cell_type": "markdown",
   "metadata": {},
   "source": [
    "## Step 4:\n",
    "\n",
    "We finally generate the stimuli from each trial by using a list of 120 nouns (60 for even, 60 for odd) and 60 consonant clusters (re-used between even/odd) and the assignments from earlier.\n",
    "\n",
    "We choose the nouns to have a similar frequency distribution to those used in the phrase/non-phrase conditions, so we first need to see those distributions. We then sample target frequencies for the 120 nouns from the stimuli distribution, and choose the nouns closest to those targets with a specified length."
   ]
  },
  {
   "cell_type": "code",
   "execution_count": 4,
   "metadata": {},
   "outputs": [
    {
     "data": {
      "text/plain": [
       "<matplotlib.legend.Legend at 0x234c7074c10>"
      ]
     },
     "execution_count": 4,
     "metadata": {},
     "output_type": "execute_result"
    },
    {
     "data": {
      "image/png": "[encoded data removed]",
      "text/plain": [
       "<Figure size 640x480 with 1 Axes>"
      ]
     },
     "metadata": {},
     "output_type": "display_data"
    }
   ],
   "source": [
    "# start by visualizing the distribution of all noun frequencies and those used in the stimuli\n",
    "kernwidth = 0.1\n",
    "sns.kdeplot(\n",
    "    data=nouns,\n",
    "    x=\"freq\",\n",
    "    fill=True,\n",
    "    label=\"All nouns\",\n",
    "    alpha=0.5,\n",
    "    log_scale=True,\n",
    "    bw_method=kernwidth,\n",
    ")\n",
    "sns.kdeplot(\n",
    "    data=nouns[~remidx],\n",
    "    x=\"freq\",\n",
    "    fill=True,\n",
    "    label=\"Used in stimuli\",\n",
    "    alpha=0.5,\n",
    "    log_scale=True,\n",
    "    bw_method=kernwidth,\n",
    ")\n",
    "plt.legend()"
   ]
  },
  {
   "cell_type": "code",
   "execution_count": null,
   "metadata": {},
   "outputs": [
    {
     "ename": "ValueError",
     "evalue": "Cannot take a larger sample than population when replace is False",
     "output_type": "error",
     "traceback": [
      "\u001b[1;31m---------------------------------------------------------------------------\u001b[0m",
      "\u001b[1;31mValueError\u001b[0m                                Traceback (most recent call last)",
      "Cell \u001b[1;32mIn[8], line 19\u001b[0m\n\u001b[0;32m     15\u001b[0m     nearest_word, nearest_idx \u001b[38;5;241m=\u001b[39m get_nearest_word(lencand, target_f)\n\u001b[0;32m     16\u001b[0m     \u001b[38;5;28;01mreturn\u001b[39;00m nearest_word, nearest_idx\n\u001b[1;32m---> 19\u001b[0m freq_samples \u001b[38;5;241m=\u001b[39m \u001b[43mrng\u001b[49m\u001b[38;5;241;43m.\u001b[39;49m\u001b[43mchoice\u001b[49m\u001b[43m(\u001b[49m\u001b[43mnouns\u001b[49m\u001b[43m[\u001b[49m\u001b[38;5;241;43m~\u001b[39;49m\u001b[43mremidx\u001b[49m\u001b[43m]\u001b[49m\u001b[43m[\u001b[49m\u001b[38;5;124;43m\"\u001b[39;49m\u001b[38;5;124;43mfreq\u001b[39;49m\u001b[38;5;124;43m\"\u001b[39;49m\u001b[43m]\u001b[49m\u001b[43m,\u001b[49m\u001b[43m \u001b[49m\u001b[43msize\u001b[49m\u001b[38;5;241;43m=\u001b[39;49m\u001b[38;5;241;43m180\u001b[39;49m\u001b[43m,\u001b[49m\u001b[43m \u001b[49m\u001b[43mreplace\u001b[49m\u001b[38;5;241;43m=\u001b[39;49m\u001b[38;5;28;43;01mFalse\u001b[39;49;00m\u001b[43m)\u001b[49m\u001b[38;5;241m.\u001b[39mtolist()\n\u001b[0;32m     21\u001b[0m \u001b[38;5;66;03m# nouns by length\u001b[39;00m\n\u001b[0;32m     22\u001b[0m candidates\u001b[38;5;241m.\u001b[39mloc[:, \u001b[38;5;124m\"\u001b[39m\u001b[38;5;124mword_len\u001b[39m\u001b[38;5;124m\"\u001b[39m] \u001b[38;5;241m=\u001b[39m candidates[\u001b[38;5;124m\"\u001b[39m\u001b[38;5;124mword\u001b[39m\u001b[38;5;124m\"\u001b[39m]\u001b[38;5;241m.\u001b[39mstr\u001b[38;5;241m.\u001b[39mlen()\n",
      "File \u001b[1;32mnumpy\\\\random\\\\_generator.pyx:918\u001b[0m, in \u001b[0;36mnumpy.random._generator.Generator.choice\u001b[1;34m()\u001b[0m\n",
      "\u001b[1;31mValueError\u001b[0m: Cannot take a larger sample than population when replace is False"
     ]
    }
   ],
   "source": [
    "def is_good_word(word):\n",
    "    if not all(c.isalpha() for c in word):\n",
    "        return False\n",
    "    else:\n",
    "        return True\n",
    "\n",
    "\n",
    "def get_nearest_word(candidates, target_f):\n",
    "    nearest_idx = np.abs(candidates[\"freq\"] - target_f).idxmin()\n",
    "    return candidates.loc[nearest_idx][\"word\"], nearest_idx\n",
    "\n",
    "\n",
    "def get_nearest_good(candidates, length, target_f):\n",
    "    lencand = candidates[candidates[\"word_len\"] == length]\n",
    "    nearest_word, nearest_idx = get_nearest_word(lencand, target_f)\n",
    "    return nearest_word, nearest_idx\n",
    "\n",
    "\n",
    "freq_samples = rng.choice(nouns[~remidx][\"freq\"], size=120, replace=False).tolist()\n",
    "\n",
    "# nouns by length\n",
    "candidates.loc[:, \"word_len\"] = candidates[\"word\"].str.len()\n",
    "candidates = candidates[candidates[\"word_len\"].isin((3, 4))].copy()\n",
    "candidates[\"word\"] = candidates[\"word\"].str.lower()\n",
    "candidates = candidates.drop_duplicates(subset=\"word\").reset_index(drop=True)\n",
    "candidates.loc[:, [f\"cand{i}\" for i in range(8)]] = \"\"\n",
    "\n",
    "# Generate two sets to fill\n",
    "stimuli_nw[\"w1\"] = \"\"\n",
    "stimuli_nw[\"w2\"] = \"\"\n",
    "stimuli_nw_odd = stimuli_nw.copy()\n",
    "stimuli_nw_even = stimuli_nw.copy()\n",
    "for idx, row in stimuli_nw_odd.iterrows():\n",
    "    for word in [\"w1\", \"w2\"]:\n",
    "        if row[f\"{word}_type\"] == \"noun\":\n",
    "            wordlen = row[f\"{word}_len\"]\n",
    "            for stimtable in [stimuli_nw_odd, stimuli_nw_even]:\n",
    "                freq = freq_samples.pop()\n",
    "                for i in range(8):\n",
    "                    stimtable.at[idx, f\"cand{i}\"], nearest_idx = get_nearest_good(\n",
    "                        candidates, wordlen, freq\n",
    "                    )\n",
    "                    candidates.drop(index=nearest_idx, inplace=True)\n",
    "\n",
    "display(stimuli_nw_even.head(10))\n",
    "allopts = pd.melt(stimuli_nw_even[[f\"cand{i}\" for i in range(8)]]).reset_index(drop=True)\n",
    "display(allopts.value_counts(\"value\").max())"
   ]
  },
  {
   "cell_type": "markdown",
   "metadata": {},
   "source": [
    "We only generated *candidate* words here, because so many of the options when using this sampling strategy are proper nouns or non-english words. We will choose manually the noun for each condition later. Now let's generate the consonant clusters:"
   ]
  },
  {
   "cell_type": "code",
   "execution_count": 6,
   "metadata": {},
   "outputs": [
    {
     "name": "stdout",
     "output_type": "stream",
     "text": [
      "96\n"
     ]
    },
    {
     "data": {
      "application/vnd.microsoft.datawrangler.viewer.v0+json": {
       "columns": [
        {
         "name": "index",
         "rawType": "int64",
         "type": "integer"
        },
        {
         "name": "w1_len",
         "rawType": "int64",
         "type": "integer"
        },
        {
         "name": "w2_len",
         "rawType": "int64",
         "type": "integer"
        },
        {
         "name": "w1_type",
         "rawType": "object",
         "type": "string"
        },
        {
         "name": "w2_type",
         "rawType": "object",
         "type": "string"
        },
        {
         "name": "w1",
         "rawType": "object",
         "type": "string"
        },
        {
         "name": "w2",
         "rawType": "object",
         "type": "string"
        },
        {
         "name": "cand0",
         "rawType": "object",
         "type": "string"
        },
        {
         "name": "cand1",
         "rawType": "object",
         "type": "string"
        },
        {
         "name": "cand2",
         "rawType": "object",
         "type": "string"
        },
        {
         "name": "cand3",
         "rawType": "object",
         "type": "string"
        },
        {
         "name": "cand4",
         "rawType": "object",
         "type": "string"
        },
        {
         "name": "cand5",
         "rawType": "object",
         "type": "string"
        },
        {
         "name": "cand6",
         "rawType": "object",
         "type": "string"
        },
        {
         "name": "cand7",
         "rawType": "object",
         "type": "string"
        }
       ],
       "conversionMethod": "pd.DataFrame",
       "ref": "872debca-b8fc-40e7-81d2-ddb067cff94b",
       "rows": [
        [
         "0",
         "3",
         "4",
         "noun",
         "cons",
         "",
         "kvzk",
         "say",
         "hem",
         "exp",
         "nut",
         "mit",
         "mel",
         "mon",
         "ivy"
        ],
        [
         "1",
         "3",
         "4",
         "noun",
         "cons",
         "",
         "mksj",
         "fur",
         "tin",
         "doc",
         "net",
         "ted",
         "jet",
         "nod",
         "edn"
        ],
        [
         "2",
         "3",
         "4",
         "noun",
         "cons",
         "",
         "bkvj",
         "fat",
         "pop",
         "toe",
         "toy",
         "bid",
         "ron",
         "cal",
         "tel"
        ],
        [
         "3",
         "3",
         "4",
         "noun",
         "cons",
         "",
         "mvhk",
         "pam",
         "saw",
         "vii",
         "rum",
         "gil",
         "sen",
         "fri",
         "vow"
        ],
        [
         "4",
         "3",
         "4",
         "noun",
         "cons",
         "",
         "fkxj",
         "our",
         "mum",
         "rod",
         "two",
         "jay",
         "app",
         "low",
         "gut"
        ],
        [
         "5",
         "3",
         "4",
         "noun",
         "cons",
         "",
         "jkzm",
         "lid",
         "arc",
         "rob",
         "pat",
         "gen",
         "bin",
         "jew",
         "cab"
        ],
        [
         "6",
         "3",
         "4",
         "cons",
         "noun",
         "qvx",
         "",
         "greg",
         "fury",
         "cart",
         "aims",
         "nuts",
         "fair",
         "ribs",
         "seal"
        ],
        [
         "7",
         "3",
         "4",
         "cons",
         "noun",
         "hkj",
         "",
         "cost",
         "loss",
         "text",
         "plan",
         "test",
         "fire",
         "half",
         "week"
        ],
        [
         "8",
         "3",
         "4",
         "cons",
         "noun",
         "mkq",
         "",
         "skin",
         "step",
         "paul",
         "rest",
         "look",
         "king",
         "news",
         "arms"
        ],
        [
         "9",
         "3",
         "4",
         "cons",
         "noun",
         "tjp",
         "",
         "rays",
         "hint",
         "dean",
         "biol",
         "cape",
         "gray",
         "beds",
         "tips"
        ]
       ],
       "shape": {
        "columns": 14,
        "rows": 10
       }
      },
      "text/html": [
       "<div>\n",
       "<style scoped>\n",
       "    .dataframe tbody tr th:only-of-type {\n",
       "        vertical-align: middle;\n",
       "    }\n",
       "\n",
       "    .dataframe tbody tr th {\n",
       "        vertical-align: top;\n",
       "    }\n",
       "\n",
       "    .dataframe thead th {\n",
       "        text-align: right;\n",
       "    }\n",
       "</style>\n",
       "<table border=\"1\" class=\"dataframe\">\n",
       "  <thead>\n",
       "    <tr style=\"text-align: right;\">\n",
       "      <th></th>\n",
       "      <th>w1_len</th>\n",
       "      <th>w2_len</th>\n",
       "      <th>w1_type</th>\n",
       "      <th>w2_type</th>\n",
       "      <th>w1</th>\n",
       "      <th>w2</th>\n",
       "      <th>cand0</th>\n",
       "      <th>cand1</th>\n",
       "      <th>cand2</th>\n",
       "      <th>cand3</th>\n",
       "      <th>cand4</th>\n",
       "      <th>cand5</th>\n",
       "      <th>cand6</th>\n",
       "      <th>cand7</th>\n",
       "    </tr>\n",
       "  </thead>\n",
       "  <tbody>\n",
       "    <tr>\n",
       "      <th>0</th>\n",
       "      <td>3</td>\n",
       "      <td>4</td>\n",
       "      <td>noun</td>\n",
       "      <td>cons</td>\n",
       "      <td></td>\n",
       "      <td>kvzk</td>\n",
       "      <td>say</td>\n",
       "      <td>hem</td>\n",
       "      <td>exp</td>\n",
       "      <td>nut</td>\n",
       "      <td>mit</td>\n",
       "      <td>mel</td>\n",
       "      <td>mon</td>\n",
       "      <td>ivy</td>\n",
       "    </tr>\n",
       "    <tr>\n",
       "      <th>1</th>\n",
       "      <td>3</td>\n",
       "      <td>4</td>\n",
       "      <td>noun</td>\n",
       "      <td>cons</td>\n",
       "      <td></td>\n",
       "      <td>mksj</td>\n",
       "      <td>fur</td>\n",
       "      <td>tin</td>\n",
       "      <td>doc</td>\n",
       "      <td>net</td>\n",
       "      <td>ted</td>\n",
       "      <td>jet</td>\n",
       "      <td>nod</td>\n",
       "      <td>edn</td>\n",
       "    </tr>\n",
       "    <tr>\n",
       "      <th>2</th>\n",
       "      <td>3</td>\n",
       "      <td>4</td>\n",
       "      <td>noun</td>\n",
       "      <td>cons</td>\n",
       "      <td></td>\n",
       "      <td>bkvj</td>\n",
       "      <td>fat</td>\n",
       "      <td>pop</td>\n",
       "      <td>toe</td>\n",
       "      <td>toy</td>\n",
       "      <td>bid</td>\n",
       "      <td>ron</td>\n",
       "      <td>cal</td>\n",
       "      <td>tel</td>\n",
       "    </tr>\n",
       "    <tr>\n",
       "      <th>3</th>\n",
       "      <td>3</td>\n",
       "      <td>4</td>\n",
       "      <td>noun</td>\n",
       "      <td>cons</td>\n",
       "      <td></td>\n",
       "      <td>mvhk</td>\n",
       "      <td>pam</td>\n",
       "      <td>saw</td>\n",
       "      <td>vii</td>\n",
       "      <td>rum</td>\n",
       "      <td>gil</td>\n",
       "      <td>sen</td>\n",
       "      <td>fri</td>\n",
       "      <td>vow</td>\n",
       "    </tr>\n",
       "    <tr>\n",
       "      <th>4</th>\n",
       "      <td>3</td>\n",
       "      <td>4</td>\n",
       "      <td>noun</td>\n",
       "      <td>cons</td>\n",
       "      <td></td>\n",
       "      <td>fkxj</td>\n",
       "      <td>our</td>\n",
       "      <td>mum</td>\n",
       "      <td>rod</td>\n",
       "      <td>two</td>\n",
       "      <td>jay</td>\n",
       "      <td>app</td>\n",
       "      <td>low</td>\n",
       "      <td>gut</td>\n",
       "    </tr>\n",
       "    <tr>\n",
       "      <th>5</th>\n",
       "      <td>3</td>\n",
       "      <td>4</td>\n",
       "      <td>noun</td>\n",
       "      <td>cons</td>\n",
       "      <td></td>\n",
       "      <td>jkzm</td>\n",
       "      <td>lid</td>\n",
       "      <td>arc</td>\n",
       "      <td>rob</td>\n",
       "      <td>pat</td>\n",
       "      <td>gen</td>\n",
       "      <td>bin</td>\n",
       "      <td>jew</td>\n",
       "      <td>cab</td>\n",
       "    </tr>\n",
       "    <tr>\n",
       "      <th>6</th>\n",
       "      <td>3</td>\n",
       "      <td>4</td>\n",
       "      <td>cons</td>\n",
       "      <td>noun</td>\n",
       "      <td>qvx</td>\n",
       "      <td></td>\n",
       "      <td>greg</td>\n",
       "      <td>fury</td>\n",
       "      <td>cart</td>\n",
       "      <td>aims</td>\n",
       "      <td>nuts</td>\n",
       "      <td>fair</td>\n",
       "      <td>ribs</td>\n",
       "      <td>seal</td>\n",
       "    </tr>\n",
       "    <tr>\n",
       "      <th>7</th>\n",
       "      <td>3</td>\n",
       "      <td>4</td>\n",
       "      <td>cons</td>\n",
       "      <td>noun</td>\n",
       "      <td>hkj</td>\n",
       "      <td></td>\n",
       "      <td>cost</td>\n",
       "      <td>loss</td>\n",
       "      <td>text</td>\n",
       "      <td>plan</td>\n",
       "      <td>test</td>\n",
       "      <td>fire</td>\n",
       "      <td>half</td>\n",
       "      <td>week</td>\n",
       "    </tr>\n",
       "    <tr>\n",
       "      <th>8</th>\n",
       "      <td>3</td>\n",
       "      <td>4</td>\n",
       "      <td>cons</td>\n",
       "      <td>noun</td>\n",
       "      <td>mkq</td>\n",
       "      <td></td>\n",
       "      <td>skin</td>\n",
       "      <td>step</td>\n",
       "      <td>paul</td>\n",
       "      <td>rest</td>\n",
       "      <td>look</td>\n",
       "      <td>king</td>\n",
       "      <td>news</td>\n",
       "      <td>arms</td>\n",
       "    </tr>\n",
       "    <tr>\n",
       "      <th>9</th>\n",
       "      <td>3</td>\n",
       "      <td>4</td>\n",
       "      <td>cons</td>\n",
       "      <td>noun</td>\n",
       "      <td>tjp</td>\n",
       "      <td></td>\n",
       "      <td>rays</td>\n",
       "      <td>hint</td>\n",
       "      <td>dean</td>\n",
       "      <td>biol</td>\n",
       "      <td>cape</td>\n",
       "      <td>gray</td>\n",
       "      <td>beds</td>\n",
       "      <td>tips</td>\n",
       "    </tr>\n",
       "  </tbody>\n",
       "</table>\n",
       "</div>"
      ],
      "text/plain": [
       "   w1_len  w2_len w1_type w2_type   w1    w2 cand0 cand1 cand2 cand3 cand4  \\\n",
       "0       3       4    noun    cons       kvzk   say   hem   exp   nut   mit   \n",
       "1       3       4    noun    cons       mksj   fur   tin   doc   net   ted   \n",
       "2       3       4    noun    cons       bkvj   fat   pop   toe   toy   bid   \n",
       "3       3       4    noun    cons       mvhk   pam   saw   vii   rum   gil   \n",
       "4       3       4    noun    cons       fkxj   our   mum   rod   two   jay   \n",
       "5       3       4    noun    cons       jkzm   lid   arc   rob   pat   gen   \n",
       "6       3       4    cons    noun  qvx        greg  fury  cart  aims  nuts   \n",
       "7       3       4    cons    noun  hkj        cost  loss  text  plan  test   \n",
       "8       3       4    cons    noun  mkq        skin  step  paul  rest  look   \n",
       "9       3       4    cons    noun  tjp        rays  hint  dean  biol  cape   \n",
       "\n",
       "  cand5 cand6 cand7  \n",
       "0   mel   mon   ivy  \n",
       "1   jet   nod   edn  \n",
       "2   ron   cal   tel  \n",
       "3   sen   fri   vow  \n",
       "4   app   low   gut  \n",
       "5   bin   jew   cab  \n",
       "6  fair  ribs  seal  \n",
       "7  fire  half  week  \n",
       "8  king  news  arms  \n",
       "9  gray  beds  tips  "
      ]
     },
     "metadata": {},
     "output_type": "display_data"
    }
   ],
   "source": [
    "cons_sample = cons.sample(frac=1)[\"non_word\"].to_list()\n",
    "print(len(cons_sample))\n",
    "considx = 0\n",
    "for idx, row in stimuli_nw_odd.iterrows():\n",
    "    for word in [\"w1\", \"w2\"]:\n",
    "        if row[f\"{word}_type\"] == \"cons\":\n",
    "            wordlen = row[f\"{word}_len\"]\n",
    "            for stimtable in [stimuli_nw_odd, stimuli_nw_even]:\n",
    "                stimtable.at[idx, word] = cons_sample[idx][:wordlen]\n",
    "                considx += 1\n",
    "display(stimuli_nw_even.head(10))\n",
    "stimuli_nw_even.loc[:, \"subtype\"] = \"even\"\n",
    "stimuli_nw_odd.loc[:, \"subtype\"] = \"odd\"\n",
    "stimuli_nw = pd.concat([stimuli_nw_even, stimuli_nw_odd]).reset_index(drop=True)\n",
    "stimuli_nw.to_csv(stimpath / \"final_nw_stimuli.csv\")"
   ]
  },
  {
   "cell_type": "markdown",
   "metadata": {},
   "source": [
    "Now we make a nice little interactive widget to select among the candidates for each pair"
   ]
  },
  {
   "cell_type": "code",
   "execution_count": 7,
   "metadata": {},
   "outputs": [
    {
     "data": {
      "application/vnd.jupyter.widget-view+json": {
       "model_id": "c1fc9dafa45c4f459ef5f54e3a6be48a",
       "version_major": 2,
       "version_minor": 0
      },
      "text/plain": [
       "interactive(children=(RadioButtons(description='Word choices:', options=('say', 'hem', 'exp', 'nut', 'mit', 'm…"
      ]
     },
     "metadata": {},
     "output_type": "display_data"
    },
    {
     "data": {
      "text/plain": [
       "<function __main__.write_choice(user_choice)>"
      ]
     },
     "execution_count": 7,
     "metadata": {},
     "output_type": "execute_result"
    }
   ],
   "source": [
    "from ipywidgets import interact_manual, RadioButtons\n",
    "\n",
    "idx = 0\n",
    "candidates = stimuli_nw.loc[idx, [f\"cand{i}\" for i in range(8)]].str.lower().to_list()\n",
    "radio = RadioButtons(options=candidates, description=\"Word choices:\", disabled=False)\n",
    "\n",
    "\n",
    "def write_choice(user_choice):\n",
    "    global idx\n",
    "    curr_row = stimuli_nw.loc[idx]\n",
    "    word = \"w1\" if curr_row.w1_type == \"noun\" else \"w2\"\n",
    "    stimuli_nw.at[idx, word] = user_choice.lower()\n",
    "    idx += 1\n",
    "    global candidates\n",
    "    global radio\n",
    "    try:\n",
    "        candidates = stimuli_nw.loc[idx, [f\"cand{i}\" for i in range(8)]].str.lower().to_list()\n",
    "        radio.options = candidates\n",
    "    except IndexError:\n",
    "        print(\"All words have been chosen.\")\n",
    "    return\n",
    "\n",
    "\n",
    "interact_manual(write_choice, user_choice=radio)"
   ]
  },
  {
   "cell_type": "code",
   "execution_count": 164,
   "metadata": {},
   "outputs": [],
   "source": [
    "stimuli_nw.drop(columns=[f\"cand{i}\" for i in range(8)]).to_csv(\n",
    "    stimpath / \"final_for_real_actually_V2_NW_stimuli.csv\"\n",
    ")"
   ]
  }
 ],
 "metadata": {
  "kernelspec": {
   "display_name": ".venv",
   "language": "python",
   "name": "python3"
  },
  "language_info": {
   "codemirror_mode": {
    "name": "ipython",
    "version": 3
   },
   "file_extension": ".py",
   "mimetype": "text/x-python",
   "name": "python",
   "nbconvert_exporter": "python",
   "pygments_lexer": "ipython3",
   "version": "3.10.15"
  }
 },
 "nbformat": 4,
 "nbformat_minor": 2
}
