{
 "cells": [
  {
   "cell_type": "code",
   "execution_count": null,
   "id": "03f2f5b1",
   "metadata": {},
   "outputs": [
    {
     "name": "stdout",
     "output_type": "stream",
     "text": [
      "A total of 6029 nouns remain to be added to the stimuli lists. 1160 adjectives remain to be added to the stimuli lists.\n",
      "0\n"
     ]
    }
   ],
   "source": [
    "import pandas as pd\n",
    "import numpy as np\n",
    "from pathlib import Path\n",
    "import polars as pl\n",
    "\n",
    "%matplotlib inline\n",
    "\n",
    "RANDOM_SEED = 42\n",
    "rng = np.random.default_rng(RANDOM_SEED)\n",
    "\n",
    "# Load in Nina's final stimuli lists and the consonants\n",
    "stimpath = Path(\"../../word_ngrams/\").resolve()\n",
    "pnp_stim_even = pd.read_csv(stimpath / \"final_P_NP_evensubs.csv\").drop(columns=[\"Unnamed: 0\"])\n",
    "pnp_stim_odd = pd.read_csv(stimpath / \"final_P_NP_oddsubs.csv\").drop(columns=[\"Unnamed: 0\"])\n",
    "pnp_stim = pd.concat([pnp_stim_even, pnp_stim_odd]).reset_index(drop=True)\n",
    "cons = pd.read_csv(stimpath / \"cons_clust_final_candidates.csv\").set_index([\"clus1\", \"clus2\"])\n",
    "\n",
    "# Load in the core list of all words\n",
    "wordcats = pd.read_csv(stimpath / \"1grams_english_1b_with_pos.csv\").convert_dtypes()\n",
    "# Remove words which can be multiple different parts of sentence. Since POS markers are separated\n",
    "# by _ characters, simply counting those is enough to find which fit the bill\n",
    "wordcats[\"ngram\"] = wordcats[\"ngram\"].str.encode(\"ascii\", errors=\"replace\").str.decode(\"ascii\")\n",
    "wordcats = wordcats[\n",
    "    (wordcats[\"ngram\"].str.count(\"_\") < 2) & (wordcats[\"ngram\"].str.count(\"\\?\") == 0)\n",
    "]\n",
    "\n",
    "# Isolate the words which are nouns in the top 45k\n",
    "wordcats[\"word\"] = wordcats[\"ngram\"].str.split(\"_\").str[0]\n",
    "wordcats = wordcats[~wordcats[\"word\"].str.isupper()].reset_index(drop=True)\n",
    "wordcats[\"POS\"] = wordcats[\"ngram\"].str.split(\"_\").str[1]\n",
    "wordcats.drop(columns=[\"ngram\"], inplace=True)\n",
    "nouns = wordcats[wordcats[\"POS\"] == \"NOUN\"].reset_index(drop=True)\n",
    "nouns[\"wordlen\"] = nouns[\"word\"].str.len()\n",
    "nouns[\"word\"] = nouns[\"word\"].str.encode(\"ascii\", errors=\"ignore\").str.decode(\"ascii\")\n",
    "\n",
    "adjs = wordcats[wordcats[\"POS\"] == \"ADJ\"].reset_index(drop=True)\n",
    "adjs[\"wordlen\"] = adjs[\"word\"].str.len()\n",
    "adjs[\"word\"] = adjs[\"word\"].str.encode(\"ascii\", errors=\"ignore\").str.decode(\"ascii\")\n",
    "\n",
    "# Isolate the nouns not yet in the stimuli lists\n",
    "pnp_stim_words = pd.melt(pnp_stim[[\"w1\", \"w2\"]], ignore_index=False).reset_index(drop=False)\n",
    "candidates = nouns[nouns[\"wordlen\"].isin((3, 4, 5))].reset_index(drop=True).copy()\n",
    "adj_candidates = adjs[adjs[\"wordlen\"].isin((3, 4, 5))].reset_index(drop=True).copy()\n",
    "\n",
    "adj_candidates = adjs.reset_index(drop=True)[\"word\"].sort_values().str.lower().copy()\n",
    "adj_candidates = adj_candidates[\n",
    "    ~adj_candidates.isin(candidates)\n",
    "    & ~adj_candidates.isin(pnp_stim_words[\"value\"])\n",
    "    & adj_candidates.str.len().isin((3, 4, 5))\n",
    "]\n",
    "\n",
    "candidates = candidates.reset_index(drop=True)[\"word\"].sort_values().str.lower().copy()\n",
    "candidates = candidates[\n",
    "    ~candidates.isin(adj_candidates)\n",
    "    & ~candidates.isin(pnp_stim_words[\"value\"])\n",
    "    & candidates.str.len().isin((3, 4, 5))\n",
    "]\n",
    "print(\n",
    "    f\"A total of {len(candidates)} nouns remain to be added to the stimuli lists.\"\n",
    "    f\" {len(adj_candidates)} adjectives remain to be added to the stimuli lists.\"\n",
    ")\n",
    "print(candidates.isin(pnp_stim_words[\"value\"]).sum())"
   ]
  },
  {
   "cell_type": "code",
   "execution_count": 60,
   "id": "7b15cab5",
   "metadata": {},
   "outputs": [
    {
     "data": {
      "application/vnd.jupyter.widget-view+json": {
       "model_id": "af07f038d3334c7b97ed12e936380430",
       "version_major": 2,
       "version_minor": 0
      },
      "text/plain": [
       "Text(value='mhz', description='Noun to save')"
      ]
     },
     "metadata": {},
     "output_type": "display_data"
    },
    {
     "data": {
      "application/vnd.jupyter.widget-view+json": {
       "model_id": "a19c190eed2d4c3d86fe82634dc1f8c3",
       "version_major": 2,
       "version_minor": 0
      },
      "text/plain": [
       "Button(description='Good', style=ButtonStyle())"
      ]
     },
     "metadata": {},
     "output_type": "display_data"
    },
    {
     "data": {
      "application/vnd.jupyter.widget-view+json": {
       "model_id": "48432ef07fff4b3997c1adf6fceb09eb",
       "version_major": 2,
       "version_minor": 0
      },
      "text/plain": [
       "Button(description='Bad', style=ButtonStyle())"
      ]
     },
     "metadata": {},
     "output_type": "display_data"
    },
    {
     "data": {
      "application/vnd.jupyter.widget-view+json": {
       "model_id": "4da53033ed484eb8a4e48ac2d6e7a82e",
       "version_major": 2,
       "version_minor": 0
      },
      "text/plain": [
       "Button(description='Save', style=ButtonStyle())"
      ]
     },
     "metadata": {},
     "output_type": "display_data"
    },
    {
     "data": {
      "application/vnd.jupyter.widget-view+json": {
       "model_id": "5358d1c89c1a4dd9859937960f8b90bd",
       "version_major": 2,
       "version_minor": 0
      },
      "text/plain": [
       "Button(description='Load', style=ButtonStyle())"
      ]
     },
     "metadata": {},
     "output_type": "display_data"
    }
   ],
   "source": [
    "import ipywidgets as widg\n",
    "from functools import partial\n",
    "\n",
    "randidx = rng.permutation(np.arange(len(candidates)))\n",
    "idx = 0\n",
    "nouncand = candidates.copy()\n",
    "goodnouns = []\n",
    "textbox = widg.Text(value=\"You shouldnt see this\", description=\"Noun to save\", disabled=False)\n",
    "textbox.value = nouncand.iloc[randidx[idx]]\n",
    "\n",
    "\n",
    "def goodopt(_, goodwords: list, cands: pd.DataFrame):\n",
    "    global idx\n",
    "    goodwords.append(textbox.value)\n",
    "    idx += 1\n",
    "    textbox.value = cands.iloc[randidx[idx]]\n",
    "    return\n",
    "\n",
    "\n",
    "def badopt(_, cands: pd.DataFrame):\n",
    "    global idx\n",
    "    idx += 1\n",
    "    textbox.value = cands.iloc[randidx[idx]]\n",
    "    return\n",
    "\n",
    "\n",
    "def savegood(_, goodwords, pos_name):\n",
    "    pd.Series(goodwords).str.strip().drop_duplicates().to_csv(\n",
    "        stimpath / f\"good_{pos_name}.csv\", index=False\n",
    "    )\n",
    "    return\n",
    "\n",
    "\n",
    "def loadgood(_, goodwords, pos_name):\n",
    "    goodser = pd.read_csv(stimpath / f\"good_{pos_name}.csv\")\n",
    "    keepitems = ~goodser.isin(goodwords)\n",
    "    goodwords.extend(goodser[keepitems][\"0\"])\n",
    "    return\n",
    "\n",
    "\n",
    "goodbutton = widg.Button(description=\"Good\")\n",
    "goodbutton.on_click(partial(goodopt, goodwords=goodnouns, cands=nouncand))\n",
    "badbutton = widg.Button(description=\"Bad\")\n",
    "badbutton.on_click(partial(badopt, cands=nouncand))\n",
    "savebutton = widg.Button(description=\"Save\")\n",
    "savebutton.on_click(partial(savegood, goodwords=goodnouns, pos_name=\"nouns\"))\n",
    "loadbutton = widg.Button(description=\"Load\")\n",
    "loadbutton.on_click(partial(loadgood, goodwords=goodnouns, pos_name=\"nouns\"))\n",
    "display(textbox, goodbutton, badbutton, savebutton, loadbutton)"
   ]
  },
  {
   "cell_type": "code",
   "execution_count": 61,
   "id": "70999653",
   "metadata": {},
   "outputs": [
    {
     "data": {
      "application/vnd.jupyter.widget-view+json": {
       "model_id": "54e885a81e8d4f8ab37da352bf997901",
       "version_major": 2,
       "version_minor": 0
      },
      "text/plain": [
       "Text(value='state', description='Adj to save')"
      ]
     },
     "metadata": {},
     "output_type": "display_data"
    },
    {
     "data": {
      "application/vnd.jupyter.widget-view+json": {
       "model_id": "e103820af7a0443c9c906809bfec7585",
       "version_major": 2,
       "version_minor": 0
      },
      "text/plain": [
       "Button(description='Good', style=ButtonStyle())"
      ]
     },
     "metadata": {},
     "output_type": "display_data"
    },
    {
     "data": {
      "application/vnd.jupyter.widget-view+json": {
       "model_id": "408c09b6c9864df59d584069667e5508",
       "version_major": 2,
       "version_minor": 0
      },
      "text/plain": [
       "Button(description='Bad', style=ButtonStyle())"
      ]
     },
     "metadata": {},
     "output_type": "display_data"
    },
    {
     "data": {
      "application/vnd.jupyter.widget-view+json": {
       "model_id": "4b1ec675254f4270a4ab2d6a231d3bde",
       "version_major": 2,
       "version_minor": 0
      },
      "text/plain": [
       "Button(description='Save', style=ButtonStyle())"
      ]
     },
     "metadata": {},
     "output_type": "display_data"
    },
    {
     "data": {
      "application/vnd.jupyter.widget-view+json": {
       "model_id": "4d11c9f0fee44d468e87bb3be3c3dbd2",
       "version_major": 2,
       "version_minor": 0
      },
      "text/plain": [
       "Button(description='Load', style=ButtonStyle())"
      ]
     },
     "metadata": {},
     "output_type": "display_data"
    }
   ],
   "source": [
    "idx = 0\n",
    "goodadj = []\n",
    "adjcand = adj_candidates.copy()\n",
    "randidx = rng.permutation(np.arange(len(adjcand)))\n",
    "textbox = widg.Text(value=\"You shouldnt see this\", description=\"Adj to save\", disabled=False)\n",
    "textbox.value = adjcand.iloc[randidx[idx]]\n",
    "\n",
    "goodbutton = widg.Button(description=\"Good\")\n",
    "goodbutton.on_click(partial(goodopt, goodwords=goodadj, cands=adjcand))\n",
    "badbutton = widg.Button(description=\"Bad\")\n",
    "badbutton.on_click(partial(badopt, cands=adjcand))\n",
    "savebutton = widg.Button(description=\"Save\")\n",
    "savebutton.on_click(partial(savegood, goodwords=goodadj, pos_name=\"adjs\"))\n",
    "loadbutton = widg.Button(description=\"Load\")\n",
    "loadbutton.on_click(partial(loadgood, goodwords=goodadj, pos_name=\"adjs\"))\n",
    "display(textbox, goodbutton, badbutton, savebutton, loadbutton)"
   ]
  },
  {
   "cell_type": "code",
   "execution_count": 63,
   "id": "21cb1308",
   "metadata": {},
   "outputs": [
    {
     "data": {
      "text/plain": [
       "[nan,\n",
       " nan,\n",
       " nan,\n",
       " nan,\n",
       " nan,\n",
       " nan,\n",
       " nan,\n",
       " nan,\n",
       " nan,\n",
       " nan,\n",
       " nan,\n",
       " nan,\n",
       " nan,\n",
       " nan,\n",
       " nan,\n",
       " nan,\n",
       " nan,\n",
       " nan,\n",
       " nan,\n",
       " nan,\n",
       " nan,\n",
       " nan,\n",
       " nan,\n",
       " nan,\n",
       " nan,\n",
       " nan,\n",
       " nan,\n",
       " nan,\n",
       " nan,\n",
       " nan,\n",
       " nan,\n",
       " nan,\n",
       " nan,\n",
       " nan,\n",
       " nan,\n",
       " nan,\n",
       " nan,\n",
       " nan,\n",
       " nan,\n",
       " nan,\n",
       " nan,\n",
       " nan,\n",
       " nan,\n",
       " nan,\n",
       " nan,\n",
       " nan,\n",
       " nan,\n",
       " nan,\n",
       " nan,\n",
       " nan,\n",
       " nan,\n",
       " nan,\n",
       " nan,\n",
       " nan,\n",
       " nan,\n",
       " nan,\n",
       " nan,\n",
       " nan,\n",
       " nan,\n",
       " nan,\n",
       " nan,\n",
       " nan,\n",
       " nan,\n",
       " nan,\n",
       " nan,\n",
       " nan,\n",
       " nan,\n",
       " nan,\n",
       " nan,\n",
       " nan,\n",
       " nan,\n",
       " nan,\n",
       " nan,\n",
       " nan,\n",
       " nan,\n",
       " nan,\n",
       " nan,\n",
       " nan,\n",
       " nan,\n",
       " nan,\n",
       " nan,\n",
       " nan,\n",
       " nan,\n",
       " nan,\n",
       " nan,\n",
       " nan,\n",
       " nan,\n",
       " nan,\n",
       " nan,\n",
       " nan,\n",
       " nan,\n",
       " nan,\n",
       " nan,\n",
       " nan,\n",
       " nan,\n",
       " nan,\n",
       " nan,\n",
       " nan,\n",
       " nan,\n",
       " nan,\n",
       " nan,\n",
       " nan,\n",
       " nan,\n",
       " nan,\n",
       " nan,\n",
       " nan,\n",
       " nan,\n",
       " nan,\n",
       " nan,\n",
       " nan,\n",
       " nan,\n",
       " nan,\n",
       " nan,\n",
       " nan,\n",
       " nan,\n",
       " nan,\n",
       " nan,\n",
       " nan,\n",
       " nan,\n",
       " nan,\n",
       " nan,\n",
       " nan,\n",
       " nan,\n",
       " nan,\n",
       " nan,\n",
       " nan,\n",
       " nan,\n",
       " nan,\n",
       " nan,\n",
       " nan,\n",
       " nan,\n",
       " nan,\n",
       " nan,\n",
       " nan,\n",
       " nan,\n",
       " nan,\n",
       " nan,\n",
       " nan,\n",
       " nan,\n",
       " nan,\n",
       " nan,\n",
       " nan,\n",
       " nan,\n",
       " nan,\n",
       " nan,\n",
       " nan,\n",
       " nan,\n",
       " nan,\n",
       " nan,\n",
       " nan,\n",
       " nan,\n",
       " nan,\n",
       " nan,\n",
       " nan,\n",
       " nan,\n",
       " nan,\n",
       " nan,\n",
       " nan,\n",
       " nan,\n",
       " nan,\n",
       " 'weird',\n",
       " 'swiss',\n",
       " 'toned',\n",
       " 'iraqi',\n",
       " 'steep',\n",
       " 'swiss',\n",
       " 'nicer',\n",
       " 'wider',\n",
       " 'cheap',\n",
       " 'cyber']"
      ]
     },
     "execution_count": 63,
     "metadata": {},
     "output_type": "execute_result"
    }
   ],
   "source": [
    "goodadj"
   ]
  },
  {
   "cell_type": "code",
   "execution_count": null,
   "id": "2807f494",
   "metadata": {},
   "outputs": [],
   "source": []
  }
 ],
 "metadata": {
  "kernelspec": {
   "display_name": ".venv",
   "language": "python",
   "name": "python3"
  },
  "language_info": {
   "codemirror_mode": {
    "name": "ipython",
    "version": 3
   },
   "file_extension": ".py",
   "mimetype": "text/x-python",
   "name": "python",
   "nbconvert_exporter": "python",
   "pygments_lexer": "ipython3",
   "version": "3.10.14"
  }
 },
 "nbformat": 4,
 "nbformat_minor": 5
}
